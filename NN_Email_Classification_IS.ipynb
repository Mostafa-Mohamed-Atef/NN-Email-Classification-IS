{
  "metadata": {
    "kernelspec": {
      "display_name": "Python 3",
      "name": "python3"
    },
    "language_info": {
      "name": "python",
      "version": "3.10.14",
      "mimetype": "text/x-python",
      "codemirror_mode": {
        "name": "ipython",
        "version": 3
      },
      "pygments_lexer": "ipython3",
      "nbconvert_exporter": "python",
      "file_extension": ".py"
    },
    "kaggle": {
      "accelerator": "gpu",
      "dataSources": [
        {
          "sourceId": 7294563,
          "sourceType": "datasetVersion",
          "datasetId": 4230881
        }
      ],
      "dockerImageVersionId": 30804,
      "isInternetEnabled": false,
      "language": "python",
      "sourceType": "notebook",
      "isGpuEnabled": true
    },
    "colab": {
      "name": "NN-Email-Classification-IS",
      "provenance": [],
      "include_colab_link": true
    }
  },
  "nbformat_minor": 0,
  "nbformat": 4,
  "cells": [
    {
      "cell_type": "markdown",
      "metadata": {
        "id": "view-in-github",
        "colab_type": "text"
      },
      "source": [
        "<a href=\"https://colab.research.google.com/github/Mostafa-Mohamed-Atef/NN-Email-Classification-IS/blob/master/NN_Email_Classification_IS.ipynb\" target=\"_parent\"><img src=\"https://colab.research.google.com/assets/colab-badge.svg\" alt=\"Open In Colab\"/></a>"
      ]
    },
    {
      "cell_type": "code",
      "source": [
        "import os\n",
        "import pandas as pd\n",
        "import numpy as np\n",
        "import nltk\n",
        "from nltk.corpus import stopwords\n",
        "from tensorflow.keras.preprocessing.text import Tokenizer\n",
        "from tensorflow.keras.preprocessing.sequence import pad_sequences\n",
        "from tensorflow.keras.models import Sequential\n",
        "from tensorflow.keras.layers import Embedding, LSTM, Dense, Dropout, Bidirectional\n",
        "from sklearn.model_selection import train_test_split\n",
        "from sklearn.preprocessing import LabelEncoder\n",
        "from sklearn.metrics import classification_report"
      ],
      "metadata": {
        "trusted": true,
        "execution": {
          "iopub.status.busy": "2024-12-04T17:13:55.499757Z",
          "iopub.execute_input": "2024-12-04T17:13:55.500402Z",
          "iopub.status.idle": "2024-12-04T17:14:08.711638Z",
          "shell.execute_reply.started": "2024-12-04T17:13:55.500351Z",
          "shell.execute_reply": "2024-12-04T17:14:08.710961Z"
        },
        "id": "cITm63ka9Ltu"
      },
      "outputs": [],
      "execution_count": 1
    },
    {
      "source": [
        "# IMPORTANT: RUN THIS CELL IN ORDER TO IMPORT YOUR KAGGLE DATA SOURCES,\n",
        "# THEN FEEL FREE TO DELETE THIS CELL.\n",
        "# NOTE: THIS NOTEBOOK ENVIRONMENT DIFFERS FROM KAGGLE'S PYTHON\n",
        "# ENVIRONMENT SO THERE MAY BE MISSING LIBRARIES USED BY YOUR\n",
        "# NOTEBOOK.\n",
        "import kagglehub\n",
        "advaithsrao_enron_fraud_email_dataset_path = kagglehub.dataset_download('advaithsrao/enron-fraud-email-dataset')\n",
        "\n",
        "print('Data source import complete.')\n"
      ],
      "metadata": {
        "colab": {
          "base_uri": "https://localhost:8080/"
        },
        "id": "T87HiwY_9Ltn",
        "outputId": "e2c5e45a-6eb9-4de4-ea15-7acd0759b347"
      },
      "cell_type": "code",
      "outputs": [
        {
          "output_type": "stream",
          "name": "stdout",
          "text": [
            "Downloading from https://www.kaggle.com/api/v1/datasets/download/advaithsrao/enron-fraud-email-dataset?dataset_version_number=1...\n"
          ]
        },
        {
          "output_type": "stream",
          "name": "stderr",
          "text": [
            "100%|██████████| 214M/214M [00:01<00:00, 131MB/s]"
          ]
        },
        {
          "output_type": "stream",
          "name": "stdout",
          "text": [
            "Extracting files...\n"
          ]
        },
        {
          "output_type": "stream",
          "name": "stderr",
          "text": [
            "\n"
          ]
        },
        {
          "output_type": "stream",
          "name": "stdout",
          "text": [
            "Data source import complete.\n"
          ]
        }
      ],
      "execution_count": 2
    },
    {
      "cell_type": "markdown",
      "source": [
        "# Loading Dataset"
      ],
      "metadata": {
        "id": "ebQ64q5w9Ltw"
      }
    },
    {
      "cell_type": "code",
      "source": [
        "import kagglehub\n",
        "\n",
        "# Download latest version\n",
        "path = kagglehub.dataset_download(\"advaithsrao/enron-fraud-email-dataset\")\n",
        "\n",
        "df = pd.read_csv(os.path.join(path, 'enron_data_fraud_labeled.csv'))  # Update `path` to your dataset's location\n",
        "df.head()\n"
      ],
      "metadata": {
        "_uuid": "8f2839f25d086af736a60e9eeb907d3b93b6e0e5",
        "_cell_guid": "b1076dfc-b9ad-4769-8c92-a6c4dae69d19",
        "trusted": true,
        "execution": {
          "iopub.status.busy": "2024-12-04T17:14:08.713375Z",
          "iopub.execute_input": "2024-12-04T17:14:08.714006Z",
          "iopub.status.idle": "2024-12-04T17:14:22.629779Z",
          "shell.execute_reply.started": "2024-12-04T17:14:08.713967Z",
          "shell.execute_reply": "2024-12-04T17:14:22.628858Z"
        },
        "colab": {
          "base_uri": "https://localhost:8080/",
          "height": 776
        },
        "id": "gV_XpznT9Ltz",
        "outputId": "0703f55b-b235-4655-9a6c-72fa655e03af"
      },
      "outputs": [
        {
          "output_type": "stream",
          "name": "stderr",
          "text": [
            "<ipython-input-3-931de8d3c01f>:6: DtypeWarning: Columns (7,13) have mixed types. Specify dtype option on import or set low_memory=False.\n",
            "  df = pd.read_csv(os.path.join(path, 'enron_data_fraud_labeled.csv'))  # Update `path` to your dataset's location\n"
          ]
        },
        {
          "output_type": "execute_result",
          "data": {
            "text/plain": [
              "  Folder-User Folder-Name                                     Message-ID  \\\n",
              "0     maildir    arnold-j  <17334447.1075857585446.JavaMail.evans@thyme>   \n",
              "1     maildir    arnold-j  <19171686.1075857585034.JavaMail.evans@thyme>   \n",
              "2     maildir    arnold-j  <29887033.1075857630725.JavaMail.evans@thyme>   \n",
              "3     maildir    arnold-j   <2526360.1075857584903.JavaMail.evans@thyme>   \n",
              "4     maildir    arnold-j  <30102065.1075857630952.JavaMail.evans@thyme>   \n",
              "\n",
              "                                    Date                     From  \\\n",
              "0  Thu, 16 Nov 2000 09:30:00 -0800 (PST)          msagel@home.com   \n",
              "1   Fri, 8 Dec 2000 05:05:00 -0800 (PST)  slafontaine@globalp.com   \n",
              "2  Tue, 15 May 2001 09:43:00 -0700 (PDT)  iceoperations@intcx.com   \n",
              "3  Mon, 11 Dec 2000 23:52:00 -0800 (PST)       klarnold@flash.net   \n",
              "4  Mon, 14 May 2001 23:59:00 -0700 (PDT)    soblander@carrfut.com   \n",
              "\n",
              "                                                  To  \\\n",
              "0                                  jarnold@enron.com   \n",
              "1                              john.arnold@enron.com   \n",
              "2  icehelpdesk@intcx.com, internalmarketing@intcx...   \n",
              "3                              john.arnold@enron.com   \n",
              "4                              soblander@carrfut.com   \n",
              "\n",
              "                                             Subject Mime-Version  \\\n",
              "0                                             Status          1.0   \n",
              "1                                 re:summer inverses          1.0   \n",
              "2                      The WTI Bullet swap contracts          1.0   \n",
              "3  Fwd: NYTimes.com Article: Suspended Rabbi Quit...          1.0   \n",
              "4        daily charts and matrices as hot links 5/15          1.0   \n",
              "\n",
              "                         Content-Type Content-Transfer-Encoding  ... Re  \\\n",
              "0  text/plain; charset=ANSI_X3.4-1968                      7bit  ...      \n",
              "1        text/plain; charset=us-ascii                      7bit  ...      \n",
              "2        text/plain; charset=us-ascii                      7bit  ...      \n",
              "3        text/plain; charset=us-ascii                      7bit  ...      \n",
              "4        text/plain; charset=us-ascii                      7bit  ...      \n",
              "\n",
              "       Source                                            Mail-ID POI-Present  \\\n",
              "0  Enron Data  b399fa1ba5ec06ccf8ead1049a53be981d0ebb39ee2c94...       False   \n",
              "1  Enron Data  84b07d7a0a17b545896f670f92d200e86843c2796147d9...       False   \n",
              "2  Enron Data  f7482dd06262f46d341e733aa0c2fb55cb1e257ea153d0...       False   \n",
              "3  Enron Data  25441e5a837fefda50527731fdbcdf0848663be82cd1ce...       False   \n",
              "4  Enron Data  c2995c6a70b953ee66c21d8a509ebfbfaca28277917beb...       False   \n",
              "\n",
              "  Suspicious-Folders Sender-Type Unique-Mails-From-Sender Low-Comm  \\\n",
              "0              False    External                     18.0    False   \n",
              "1              False    External                      4.0     True   \n",
              "2              False    External                      3.0     True   \n",
              "3              False    External                      9.0    False   \n",
              "4              False    External                    352.0    False   \n",
              "\n",
              "  Contains-Reply-Forwards Label  \n",
              "0                   False     0  \n",
              "1                   False     0  \n",
              "2                   False     0  \n",
              "3                    True     0  \n",
              "4                   False     0  \n",
              "\n",
              "[5 rows x 32 columns]"
            ],
            "text/html": [
              "\n",
              "  <div id=\"df-7e36893b-a516-41ab-80f8-a038a36b8a4a\" class=\"colab-df-container\">\n",
              "    <div>\n",
              "<style scoped>\n",
              "    .dataframe tbody tr th:only-of-type {\n",
              "        vertical-align: middle;\n",
              "    }\n",
              "\n",
              "    .dataframe tbody tr th {\n",
              "        vertical-align: top;\n",
              "    }\n",
              "\n",
              "    .dataframe thead th {\n",
              "        text-align: right;\n",
              "    }\n",
              "</style>\n",
              "<table border=\"1\" class=\"dataframe\">\n",
              "  <thead>\n",
              "    <tr style=\"text-align: right;\">\n",
              "      <th></th>\n",
              "      <th>Folder-User</th>\n",
              "      <th>Folder-Name</th>\n",
              "      <th>Message-ID</th>\n",
              "      <th>Date</th>\n",
              "      <th>From</th>\n",
              "      <th>To</th>\n",
              "      <th>Subject</th>\n",
              "      <th>Mime-Version</th>\n",
              "      <th>Content-Type</th>\n",
              "      <th>Content-Transfer-Encoding</th>\n",
              "      <th>...</th>\n",
              "      <th>Re</th>\n",
              "      <th>Source</th>\n",
              "      <th>Mail-ID</th>\n",
              "      <th>POI-Present</th>\n",
              "      <th>Suspicious-Folders</th>\n",
              "      <th>Sender-Type</th>\n",
              "      <th>Unique-Mails-From-Sender</th>\n",
              "      <th>Low-Comm</th>\n",
              "      <th>Contains-Reply-Forwards</th>\n",
              "      <th>Label</th>\n",
              "    </tr>\n",
              "  </thead>\n",
              "  <tbody>\n",
              "    <tr>\n",
              "      <th>0</th>\n",
              "      <td>maildir</td>\n",
              "      <td>arnold-j</td>\n",
              "      <td>&lt;17334447.1075857585446.JavaMail.evans@thyme&gt;</td>\n",
              "      <td>Thu, 16 Nov 2000 09:30:00 -0800 (PST)</td>\n",
              "      <td>msagel@home.com</td>\n",
              "      <td>jarnold@enron.com</td>\n",
              "      <td>Status</td>\n",
              "      <td>1.0</td>\n",
              "      <td>text/plain; charset=ANSI_X3.4-1968</td>\n",
              "      <td>7bit</td>\n",
              "      <td>...</td>\n",
              "      <td></td>\n",
              "      <td>Enron Data</td>\n",
              "      <td>b399fa1ba5ec06ccf8ead1049a53be981d0ebb39ee2c94...</td>\n",
              "      <td>False</td>\n",
              "      <td>False</td>\n",
              "      <td>External</td>\n",
              "      <td>18.0</td>\n",
              "      <td>False</td>\n",
              "      <td>False</td>\n",
              "      <td>0</td>\n",
              "    </tr>\n",
              "    <tr>\n",
              "      <th>1</th>\n",
              "      <td>maildir</td>\n",
              "      <td>arnold-j</td>\n",
              "      <td>&lt;19171686.1075857585034.JavaMail.evans@thyme&gt;</td>\n",
              "      <td>Fri, 8 Dec 2000 05:05:00 -0800 (PST)</td>\n",
              "      <td>slafontaine@globalp.com</td>\n",
              "      <td>john.arnold@enron.com</td>\n",
              "      <td>re:summer inverses</td>\n",
              "      <td>1.0</td>\n",
              "      <td>text/plain; charset=us-ascii</td>\n",
              "      <td>7bit</td>\n",
              "      <td>...</td>\n",
              "      <td></td>\n",
              "      <td>Enron Data</td>\n",
              "      <td>84b07d7a0a17b545896f670f92d200e86843c2796147d9...</td>\n",
              "      <td>False</td>\n",
              "      <td>False</td>\n",
              "      <td>External</td>\n",
              "      <td>4.0</td>\n",
              "      <td>True</td>\n",
              "      <td>False</td>\n",
              "      <td>0</td>\n",
              "    </tr>\n",
              "    <tr>\n",
              "      <th>2</th>\n",
              "      <td>maildir</td>\n",
              "      <td>arnold-j</td>\n",
              "      <td>&lt;29887033.1075857630725.JavaMail.evans@thyme&gt;</td>\n",
              "      <td>Tue, 15 May 2001 09:43:00 -0700 (PDT)</td>\n",
              "      <td>iceoperations@intcx.com</td>\n",
              "      <td>icehelpdesk@intcx.com, internalmarketing@intcx...</td>\n",
              "      <td>The WTI Bullet swap contracts</td>\n",
              "      <td>1.0</td>\n",
              "      <td>text/plain; charset=us-ascii</td>\n",
              "      <td>7bit</td>\n",
              "      <td>...</td>\n",
              "      <td></td>\n",
              "      <td>Enron Data</td>\n",
              "      <td>f7482dd06262f46d341e733aa0c2fb55cb1e257ea153d0...</td>\n",
              "      <td>False</td>\n",
              "      <td>False</td>\n",
              "      <td>External</td>\n",
              "      <td>3.0</td>\n",
              "      <td>True</td>\n",
              "      <td>False</td>\n",
              "      <td>0</td>\n",
              "    </tr>\n",
              "    <tr>\n",
              "      <th>3</th>\n",
              "      <td>maildir</td>\n",
              "      <td>arnold-j</td>\n",
              "      <td>&lt;2526360.1075857584903.JavaMail.evans@thyme&gt;</td>\n",
              "      <td>Mon, 11 Dec 2000 23:52:00 -0800 (PST)</td>\n",
              "      <td>klarnold@flash.net</td>\n",
              "      <td>john.arnold@enron.com</td>\n",
              "      <td>Fwd: NYTimes.com Article: Suspended Rabbi Quit...</td>\n",
              "      <td>1.0</td>\n",
              "      <td>text/plain; charset=us-ascii</td>\n",
              "      <td>7bit</td>\n",
              "      <td>...</td>\n",
              "      <td></td>\n",
              "      <td>Enron Data</td>\n",
              "      <td>25441e5a837fefda50527731fdbcdf0848663be82cd1ce...</td>\n",
              "      <td>False</td>\n",
              "      <td>False</td>\n",
              "      <td>External</td>\n",
              "      <td>9.0</td>\n",
              "      <td>False</td>\n",
              "      <td>True</td>\n",
              "      <td>0</td>\n",
              "    </tr>\n",
              "    <tr>\n",
              "      <th>4</th>\n",
              "      <td>maildir</td>\n",
              "      <td>arnold-j</td>\n",
              "      <td>&lt;30102065.1075857630952.JavaMail.evans@thyme&gt;</td>\n",
              "      <td>Mon, 14 May 2001 23:59:00 -0700 (PDT)</td>\n",
              "      <td>soblander@carrfut.com</td>\n",
              "      <td>soblander@carrfut.com</td>\n",
              "      <td>daily charts and matrices as hot links 5/15</td>\n",
              "      <td>1.0</td>\n",
              "      <td>text/plain; charset=us-ascii</td>\n",
              "      <td>7bit</td>\n",
              "      <td>...</td>\n",
              "      <td></td>\n",
              "      <td>Enron Data</td>\n",
              "      <td>c2995c6a70b953ee66c21d8a509ebfbfaca28277917beb...</td>\n",
              "      <td>False</td>\n",
              "      <td>False</td>\n",
              "      <td>External</td>\n",
              "      <td>352.0</td>\n",
              "      <td>False</td>\n",
              "      <td>False</td>\n",
              "      <td>0</td>\n",
              "    </tr>\n",
              "  </tbody>\n",
              "</table>\n",
              "<p>5 rows × 32 columns</p>\n",
              "</div>\n",
              "    <div class=\"colab-df-buttons\">\n",
              "\n",
              "  <div class=\"colab-df-container\">\n",
              "    <button class=\"colab-df-convert\" onclick=\"convertToInteractive('df-7e36893b-a516-41ab-80f8-a038a36b8a4a')\"\n",
              "            title=\"Convert this dataframe to an interactive table.\"\n",
              "            style=\"display:none;\">\n",
              "\n",
              "  <svg xmlns=\"http://www.w3.org/2000/svg\" height=\"24px\" viewBox=\"0 -960 960 960\">\n",
              "    <path d=\"M120-120v-720h720v720H120Zm60-500h600v-160H180v160Zm220 220h160v-160H400v160Zm0 220h160v-160H400v160ZM180-400h160v-160H180v160Zm440 0h160v-160H620v160ZM180-180h160v-160H180v160Zm440 0h160v-160H620v160Z\"/>\n",
              "  </svg>\n",
              "    </button>\n",
              "\n",
              "  <style>\n",
              "    .colab-df-container {\n",
              "      display:flex;\n",
              "      gap: 12px;\n",
              "    }\n",
              "\n",
              "    .colab-df-convert {\n",
              "      background-color: #E8F0FE;\n",
              "      border: none;\n",
              "      border-radius: 50%;\n",
              "      cursor: pointer;\n",
              "      display: none;\n",
              "      fill: #1967D2;\n",
              "      height: 32px;\n",
              "      padding: 0 0 0 0;\n",
              "      width: 32px;\n",
              "    }\n",
              "\n",
              "    .colab-df-convert:hover {\n",
              "      background-color: #E2EBFA;\n",
              "      box-shadow: 0px 1px 2px rgba(60, 64, 67, 0.3), 0px 1px 3px 1px rgba(60, 64, 67, 0.15);\n",
              "      fill: #174EA6;\n",
              "    }\n",
              "\n",
              "    .colab-df-buttons div {\n",
              "      margin-bottom: 4px;\n",
              "    }\n",
              "\n",
              "    [theme=dark] .colab-df-convert {\n",
              "      background-color: #3B4455;\n",
              "      fill: #D2E3FC;\n",
              "    }\n",
              "\n",
              "    [theme=dark] .colab-df-convert:hover {\n",
              "      background-color: #434B5C;\n",
              "      box-shadow: 0px 1px 3px 1px rgba(0, 0, 0, 0.15);\n",
              "      filter: drop-shadow(0px 1px 2px rgba(0, 0, 0, 0.3));\n",
              "      fill: #FFFFFF;\n",
              "    }\n",
              "  </style>\n",
              "\n",
              "    <script>\n",
              "      const buttonEl =\n",
              "        document.querySelector('#df-7e36893b-a516-41ab-80f8-a038a36b8a4a button.colab-df-convert');\n",
              "      buttonEl.style.display =\n",
              "        google.colab.kernel.accessAllowed ? 'block' : 'none';\n",
              "\n",
              "      async function convertToInteractive(key) {\n",
              "        const element = document.querySelector('#df-7e36893b-a516-41ab-80f8-a038a36b8a4a');\n",
              "        const dataTable =\n",
              "          await google.colab.kernel.invokeFunction('convertToInteractive',\n",
              "                                                    [key], {});\n",
              "        if (!dataTable) return;\n",
              "\n",
              "        const docLinkHtml = 'Like what you see? Visit the ' +\n",
              "          '<a target=\"_blank\" href=https://colab.research.google.com/notebooks/data_table.ipynb>data table notebook</a>'\n",
              "          + ' to learn more about interactive tables.';\n",
              "        element.innerHTML = '';\n",
              "        dataTable['output_type'] = 'display_data';\n",
              "        await google.colab.output.renderOutput(dataTable, element);\n",
              "        const docLink = document.createElement('div');\n",
              "        docLink.innerHTML = docLinkHtml;\n",
              "        element.appendChild(docLink);\n",
              "      }\n",
              "    </script>\n",
              "  </div>\n",
              "\n",
              "\n",
              "<div id=\"df-e71fae6b-64f8-40e4-a89d-2c0c23384fbf\">\n",
              "  <button class=\"colab-df-quickchart\" onclick=\"quickchart('df-e71fae6b-64f8-40e4-a89d-2c0c23384fbf')\"\n",
              "            title=\"Suggest charts\"\n",
              "            style=\"display:none;\">\n",
              "\n",
              "<svg xmlns=\"http://www.w3.org/2000/svg\" height=\"24px\"viewBox=\"0 0 24 24\"\n",
              "     width=\"24px\">\n",
              "    <g>\n",
              "        <path d=\"M19 3H5c-1.1 0-2 .9-2 2v14c0 1.1.9 2 2 2h14c1.1 0 2-.9 2-2V5c0-1.1-.9-2-2-2zM9 17H7v-7h2v7zm4 0h-2V7h2v10zm4 0h-2v-4h2v4z\"/>\n",
              "    </g>\n",
              "</svg>\n",
              "  </button>\n",
              "\n",
              "<style>\n",
              "  .colab-df-quickchart {\n",
              "      --bg-color: #E8F0FE;\n",
              "      --fill-color: #1967D2;\n",
              "      --hover-bg-color: #E2EBFA;\n",
              "      --hover-fill-color: #174EA6;\n",
              "      --disabled-fill-color: #AAA;\n",
              "      --disabled-bg-color: #DDD;\n",
              "  }\n",
              "\n",
              "  [theme=dark] .colab-df-quickchart {\n",
              "      --bg-color: #3B4455;\n",
              "      --fill-color: #D2E3FC;\n",
              "      --hover-bg-color: #434B5C;\n",
              "      --hover-fill-color: #FFFFFF;\n",
              "      --disabled-bg-color: #3B4455;\n",
              "      --disabled-fill-color: #666;\n",
              "  }\n",
              "\n",
              "  .colab-df-quickchart {\n",
              "    background-color: var(--bg-color);\n",
              "    border: none;\n",
              "    border-radius: 50%;\n",
              "    cursor: pointer;\n",
              "    display: none;\n",
              "    fill: var(--fill-color);\n",
              "    height: 32px;\n",
              "    padding: 0;\n",
              "    width: 32px;\n",
              "  }\n",
              "\n",
              "  .colab-df-quickchart:hover {\n",
              "    background-color: var(--hover-bg-color);\n",
              "    box-shadow: 0 1px 2px rgba(60, 64, 67, 0.3), 0 1px 3px 1px rgba(60, 64, 67, 0.15);\n",
              "    fill: var(--button-hover-fill-color);\n",
              "  }\n",
              "\n",
              "  .colab-df-quickchart-complete:disabled,\n",
              "  .colab-df-quickchart-complete:disabled:hover {\n",
              "    background-color: var(--disabled-bg-color);\n",
              "    fill: var(--disabled-fill-color);\n",
              "    box-shadow: none;\n",
              "  }\n",
              "\n",
              "  .colab-df-spinner {\n",
              "    border: 2px solid var(--fill-color);\n",
              "    border-color: transparent;\n",
              "    border-bottom-color: var(--fill-color);\n",
              "    animation:\n",
              "      spin 1s steps(1) infinite;\n",
              "  }\n",
              "\n",
              "  @keyframes spin {\n",
              "    0% {\n",
              "      border-color: transparent;\n",
              "      border-bottom-color: var(--fill-color);\n",
              "      border-left-color: var(--fill-color);\n",
              "    }\n",
              "    20% {\n",
              "      border-color: transparent;\n",
              "      border-left-color: var(--fill-color);\n",
              "      border-top-color: var(--fill-color);\n",
              "    }\n",
              "    30% {\n",
              "      border-color: transparent;\n",
              "      border-left-color: var(--fill-color);\n",
              "      border-top-color: var(--fill-color);\n",
              "      border-right-color: var(--fill-color);\n",
              "    }\n",
              "    40% {\n",
              "      border-color: transparent;\n",
              "      border-right-color: var(--fill-color);\n",
              "      border-top-color: var(--fill-color);\n",
              "    }\n",
              "    60% {\n",
              "      border-color: transparent;\n",
              "      border-right-color: var(--fill-color);\n",
              "    }\n",
              "    80% {\n",
              "      border-color: transparent;\n",
              "      border-right-color: var(--fill-color);\n",
              "      border-bottom-color: var(--fill-color);\n",
              "    }\n",
              "    90% {\n",
              "      border-color: transparent;\n",
              "      border-bottom-color: var(--fill-color);\n",
              "    }\n",
              "  }\n",
              "</style>\n",
              "\n",
              "  <script>\n",
              "    async function quickchart(key) {\n",
              "      const quickchartButtonEl =\n",
              "        document.querySelector('#' + key + ' button');\n",
              "      quickchartButtonEl.disabled = true;  // To prevent multiple clicks.\n",
              "      quickchartButtonEl.classList.add('colab-df-spinner');\n",
              "      try {\n",
              "        const charts = await google.colab.kernel.invokeFunction(\n",
              "            'suggestCharts', [key], {});\n",
              "      } catch (error) {\n",
              "        console.error('Error during call to suggestCharts:', error);\n",
              "      }\n",
              "      quickchartButtonEl.classList.remove('colab-df-spinner');\n",
              "      quickchartButtonEl.classList.add('colab-df-quickchart-complete');\n",
              "    }\n",
              "    (() => {\n",
              "      let quickchartButtonEl =\n",
              "        document.querySelector('#df-e71fae6b-64f8-40e4-a89d-2c0c23384fbf button');\n",
              "      quickchartButtonEl.style.display =\n",
              "        google.colab.kernel.accessAllowed ? 'block' : 'none';\n",
              "    })();\n",
              "  </script>\n",
              "</div>\n",
              "\n",
              "    </div>\n",
              "  </div>\n"
            ],
            "application/vnd.google.colaboratory.intrinsic+json": {
              "type": "dataframe",
              "variable_name": "df"
            }
          },
          "metadata": {},
          "execution_count": 3
        }
      ],
      "execution_count": 3
    },
    {
      "cell_type": "markdown",
      "source": [
        "# Step 1: Clean and preprocess the data"
      ],
      "metadata": {
        "id": "RvJDNljG9Lt0"
      }
    },
    {
      "cell_type": "code",
      "source": [
        "nltk.download('stopwords')\n",
        "stop_words = set(stopwords.words('english'))\n",
        "\n",
        "def preprocess_email(email):\n",
        "    if pd.isnull(email):\n",
        "        return \"\"\n",
        "    # Remove non-alphabetic characters and stopwords\n",
        "    email = ' '.join([word for word in email.split() if word.isalpha() and word.lower() not in stop_words])\n",
        "    return email\n",
        "\n",
        "df['cleaned_body'] = df['Body'].apply(preprocess_email)"
      ],
      "metadata": {
        "trusted": true,
        "execution": {
          "iopub.status.busy": "2024-12-04T17:14:22.631447Z",
          "iopub.execute_input": "2024-12-04T17:14:22.631807Z",
          "iopub.status.idle": "2024-12-04T17:15:08.20147Z",
          "shell.execute_reply.started": "2024-12-04T17:14:22.631769Z",
          "shell.execute_reply": "2024-12-04T17:15:08.200663Z"
        },
        "colab": {
          "base_uri": "https://localhost:8080/"
        },
        "id": "E8unqUp79Lt1",
        "outputId": "f731fb13-679c-4372-e642-5ba753cf0d05"
      },
      "outputs": [
        {
          "output_type": "stream",
          "name": "stderr",
          "text": [
            "[nltk_data] Downloading package stopwords to /root/nltk_data...\n",
            "[nltk_data]   Unzipping corpora/stopwords.zip.\n"
          ]
        }
      ],
      "execution_count": 4
    },
    {
      "cell_type": "markdown",
      "source": [
        "# Encode labels"
      ],
      "metadata": {
        "id": "-LUg0gwT9Lt2"
      }
    },
    {
      "cell_type": "code",
      "source": [
        "label_encoder = LabelEncoder()\n",
        "df['label_encoded'] = label_encoder.fit_transform(df['Label'])"
      ],
      "metadata": {
        "trusted": true,
        "execution": {
          "iopub.status.busy": "2024-12-04T17:15:08.203143Z",
          "iopub.execute_input": "2024-12-04T17:15:08.203419Z",
          "iopub.status.idle": "2024-12-04T17:15:08.247019Z",
          "shell.execute_reply.started": "2024-12-04T17:15:08.203393Z",
          "shell.execute_reply": "2024-12-04T17:15:08.246364Z"
        },
        "id": "o7AEnrHv9Lt3"
      },
      "outputs": [],
      "execution_count": 5
    },
    {
      "cell_type": "markdown",
      "source": [
        "# Step 2: Tokenization and padding"
      ],
      "metadata": {
        "id": "3csb3KyF9Lt4"
      }
    },
    {
      "cell_type": "code",
      "source": [
        "X = df['cleaned_body'].fillna(\"\")\n",
        "y = df['label_encoded']\n",
        "\n",
        "# Split the dataset\n",
        "X_train, X_test, y_train, y_test = train_test_split(X, y, test_size=0.2, random_state=42)\n",
        "\n",
        "# Tokenize text data\n",
        "tokenizer = Tokenizer(num_words=10000)  # Adjust vocabulary size as needed\n",
        "tokenizer.fit_on_texts(X_train)\n",
        "X_train_seq = tokenizer.texts_to_sequences(X_train)\n",
        "X_test_seq = tokenizer.texts_to_sequences(X_test)\n",
        "\n",
        "# Pad sequences to ensure uniform input size\n",
        "max_length = 100  # Adjust max length based on your dataset\n",
        "X_train_padded = pad_sequences(X_train_seq, maxlen=max_length, padding='post')\n",
        "X_test_padded = pad_sequences(X_test_seq, maxlen=max_length, padding='post')"
      ],
      "metadata": {
        "trusted": true,
        "execution": {
          "iopub.status.busy": "2024-12-04T17:15:08.248103Z",
          "iopub.execute_input": "2024-12-04T17:15:08.248437Z",
          "iopub.status.idle": "2024-12-04T17:15:36.463785Z",
          "shell.execute_reply.started": "2024-12-04T17:15:08.248399Z",
          "shell.execute_reply": "2024-12-04T17:15:36.462812Z"
        },
        "id": "pHDwEQfm9Lt5"
      },
      "outputs": [],
      "execution_count": 6
    },
    {
      "cell_type": "markdown",
      "source": [
        "# Step 3: Build the model"
      ],
      "metadata": {
        "id": "1Pkg6H6G9Lt5"
      }
    },
    {
      "cell_type": "code",
      "source": [
        "from tensorflow.keras.optimizers import Adam\n",
        "from tensorflow.keras.regularizers import l2"
      ],
      "metadata": {
        "id": "KGTR5LKHLMWT"
      },
      "execution_count": 7,
      "outputs": []
    },
    {
      "cell_type": "code",
      "source": [
        "\n",
        "model = Sequential([\n",
        "    Embedding(input_dim=10000, output_dim=128, input_length=max_length),  # Embedding layer\n",
        "    Bidirectional(LSTM(64, return_sequences=False)),  # LSTM layer\n",
        "    Dropout(0.6),\n",
        "    Dense(64, activation='relu', kernel_regularizer=l2(0.01)),\n",
        "    Dropout(0.6),\n",
        "    Dense(1, activation='sigmoid')  # Binary classification\n",
        "])\n",
        "\n",
        "# Compile the model\n",
        "# model.compile(\n",
        "#     optimizer='adam',\n",
        "#     loss='binary_crossentropy',\n",
        "#     metrics=['accuracy']\n",
        "# )\n",
        "model.compile(optimizer=Adam(learning_rate=0.0001), loss='binary_crossentropy', metrics=['accuracy'])\n"
      ],
      "metadata": {
        "trusted": true,
        "execution": {
          "iopub.status.busy": "2024-12-04T17:15:36.464824Z",
          "iopub.execute_input": "2024-12-04T17:15:36.465099Z",
          "iopub.status.idle": "2024-12-04T17:15:37.235325Z",
          "shell.execute_reply.started": "2024-12-04T17:15:36.465074Z",
          "shell.execute_reply": "2024-12-04T17:15:37.234464Z"
        },
        "id": "Tc-atku19Lt5"
      },
      "outputs": [],
      "execution_count": 8
    },
    {
      "cell_type": "markdown",
      "source": [
        "# Step 4: Train the model"
      ],
      "metadata": {
        "id": "q6l7v2DP9Lt6"
      }
    },
    {
      "cell_type": "code",
      "source": [
        "print(\"Starting training...\")\n",
        "history = model.fit(\n",
        "    X_train_padded,\n",
        "    y_train,\n",
        "    validation_split=0.2,\n",
        "    epochs=3,  # Adjust epochs based on dataset size\n",
        "    batch_size=32,  # Adjust batch size based on your hardware\n",
        "    verbose=1\n",
        ")"
      ],
      "metadata": {
        "trusted": true,
        "execution": {
          "iopub.status.busy": "2024-12-04T17:15:37.236391Z",
          "iopub.execute_input": "2024-12-04T17:15:37.236648Z",
          "iopub.status.idle": "2024-12-04T17:26:03.525826Z",
          "shell.execute_reply.started": "2024-12-04T17:15:37.236622Z",
          "shell.execute_reply": "2024-12-04T17:26:03.524935Z"
        },
        "colab": {
          "base_uri": "https://localhost:8080/"
        },
        "id": "Bux0kwJh9Lt6",
        "outputId": "2e61d31c-c46c-4a22-d7f3-bc38cb16c823"
      },
      "outputs": [
        {
          "output_type": "stream",
          "name": "stdout",
          "text": [
            "Starting training...\n",
            "Epoch 1/3\n",
            "8949/8949 [==============================] - 1035s 115ms/step - loss: 0.1055 - accuracy: 0.9945 - val_loss: 0.0239 - val_accuracy: 0.9942\n",
            "Epoch 2/3\n",
            "8949/8949 [==============================] - 998s 112ms/step - loss: 0.0192 - accuracy: 0.9949 - val_loss: 0.0195 - val_accuracy: 0.9942\n",
            "Epoch 3/3\n",
            "8949/8949 [==============================] - 998s 112ms/step - loss: 0.0153 - accuracy: 0.9949 - val_loss: 0.0195 - val_accuracy: 0.9942\n"
          ]
        }
      ],
      "execution_count": 14
    },
    {
      "cell_type": "markdown",
      "source": [
        "# Step 5: Evaluate the model"
      ],
      "metadata": {
        "id": "i3yJFheV9Lt6"
      }
    },
    {
      "cell_type": "code",
      "source": [
        "print(\"Evaluating the model...\")\n",
        "loss, accuracy = model.evaluate(X_test_padded, y_test, verbose=1)\n",
        "print(f\"Test Accuracy: {accuracy * 100:.2f}%\")"
      ],
      "metadata": {
        "trusted": true,
        "execution": {
          "iopub.status.busy": "2024-12-04T17:26:03.527233Z",
          "iopub.execute_input": "2024-12-04T17:26:03.527592Z",
          "iopub.status.idle": "2024-12-04T17:26:18.335437Z",
          "shell.execute_reply.started": "2024-12-04T17:26:03.527552Z",
          "shell.execute_reply": "2024-12-04T17:26:18.334601Z"
        },
        "colab": {
          "base_uri": "https://localhost:8080/",
          "height": 193
        },
        "id": "-7icXD6C9Lt6",
        "outputId": "01f83acb-abe8-46b4-b5af-dc2ab0c566a0"
      },
      "outputs": [
        {
          "output_type": "stream",
          "name": "stdout",
          "text": [
            "Evaluating the model...\n"
          ]
        },
        {
          "output_type": "error",
          "ename": "NameError",
          "evalue": "name 'model' is not defined",
          "traceback": [
            "\u001b[0;31m---------------------------------------------------------------------------\u001b[0m",
            "\u001b[0;31mNameError\u001b[0m                                 Traceback (most recent call last)",
            "\u001b[0;32m<ipython-input-1-d773295857f4>\u001b[0m in \u001b[0;36m<cell line: 2>\u001b[0;34m()\u001b[0m\n\u001b[1;32m      1\u001b[0m \u001b[0mprint\u001b[0m\u001b[0;34m(\u001b[0m\u001b[0;34m\"Evaluating the model...\"\u001b[0m\u001b[0;34m)\u001b[0m\u001b[0;34m\u001b[0m\u001b[0;34m\u001b[0m\u001b[0m\n\u001b[0;32m----> 2\u001b[0;31m \u001b[0mloss\u001b[0m\u001b[0;34m,\u001b[0m \u001b[0maccuracy\u001b[0m \u001b[0;34m=\u001b[0m \u001b[0mmodel\u001b[0m\u001b[0;34m.\u001b[0m\u001b[0mevaluate\u001b[0m\u001b[0;34m(\u001b[0m\u001b[0mX_test_padded\u001b[0m\u001b[0;34m,\u001b[0m \u001b[0my_test\u001b[0m\u001b[0;34m,\u001b[0m \u001b[0mverbose\u001b[0m\u001b[0;34m=\u001b[0m\u001b[0;36m1\u001b[0m\u001b[0;34m)\u001b[0m\u001b[0;34m\u001b[0m\u001b[0;34m\u001b[0m\u001b[0m\n\u001b[0m\u001b[1;32m      3\u001b[0m \u001b[0mprint\u001b[0m\u001b[0;34m(\u001b[0m\u001b[0;34mf\"Test Accuracy: {accuracy * 100:.2f}%\"\u001b[0m\u001b[0;34m)\u001b[0m\u001b[0;34m\u001b[0m\u001b[0;34m\u001b[0m\u001b[0m\n",
            "\u001b[0;31mNameError\u001b[0m: name 'model' is not defined"
          ]
        }
      ],
      "execution_count": 1
    },
    {
      "cell_type": "code",
      "source": [
        "import matplotlib.pyplot as plt\n",
        "from sklearn.metrics import classification_report, ConfusionMatrixDisplay\n"
      ],
      "metadata": {
        "trusted": true,
        "execution": {
          "iopub.status.busy": "2024-12-04T17:26:18.336519Z",
          "iopub.execute_input": "2024-12-04T17:26:18.336793Z",
          "iopub.status.idle": "2024-12-04T17:26:18.340874Z",
          "shell.execute_reply.started": "2024-12-04T17:26:18.336766Z",
          "shell.execute_reply": "2024-12-04T17:26:18.339998Z"
        },
        "id": "zMbSMPqW9Lt7"
      },
      "outputs": [],
      "execution_count": 10
    },
    {
      "cell_type": "code",
      "source": [
        "# Generate predictions\n",
        "y_pred = (model.predict(X_test_padded) > 0.5).astype(\"int32\").flatten()\n",
        "print(\"Original class names:\", label_encoder.classes_)\n",
        "class_names = [str(cls) for cls in label_encoder.classes_]\n",
        "# Generate classification report\n",
        "print(\"\\nClassification Report:\")\n",
        "print(classification_report(y_test, y_pred, target_names=class_names))"
      ],
      "metadata": {
        "trusted": true,
        "execution": {
          "iopub.status.busy": "2024-12-04T17:35:19.573849Z",
          "iopub.execute_input": "2024-12-04T17:35:19.574241Z",
          "iopub.status.idle": "2024-12-04T17:35:31.715047Z",
          "shell.execute_reply.started": "2024-12-04T17:35:19.574209Z",
          "shell.execute_reply": "2024-12-04T17:35:31.714175Z"
        },
        "colab": {
          "base_uri": "https://localhost:8080/"
        },
        "id": "1iuBg8Y19Lt7",
        "outputId": "c1a6b52e-2968-4d0a-aad9-2363bef7dde5"
      },
      "outputs": [
        {
          "output_type": "stream",
          "name": "stdout",
          "text": [
            "2797/2797 [==============================] - 60s 21ms/step\n",
            "Original class names: [0 1]\n",
            "\n",
            "Classification Report:\n",
            "              precision    recall  f1-score   support\n",
            "\n",
            "           0       0.99      0.63      0.77     89017\n",
            "           1       0.01      0.39      0.01       467\n",
            "\n",
            "    accuracy                           0.63     89484\n",
            "   macro avg       0.50      0.51      0.39     89484\n",
            "weighted avg       0.99      0.63      0.77     89484\n",
            "\n"
          ]
        }
      ],
      "execution_count": 11
    },
    {
      "cell_type": "code",
      "source": [
        "# Plot confusion matrix\n",
        "print(\"\\nConfusion Matrix:\")\n",
        "ConfusionMatrixDisplay.from_predictions(y_test, y_pred, display_labels=class_names)\n",
        "plt.show()"
      ],
      "metadata": {
        "trusted": true,
        "execution": {
          "iopub.status.busy": "2024-12-04T17:35:54.071613Z",
          "iopub.execute_input": "2024-12-04T17:35:54.071986Z",
          "iopub.status.idle": "2024-12-04T17:35:54.312339Z",
          "shell.execute_reply.started": "2024-12-04T17:35:54.071925Z",
          "shell.execute_reply": "2024-12-04T17:35:54.311502Z"
        },
        "colab": {
          "base_uri": "https://localhost:8080/",
          "height": 484
        },
        "id": "5wiMts0u9Lt7",
        "outputId": "ce412373-ff5b-4443-a9dc-b30d12807007"
      },
      "outputs": [
        {
          "output_type": "stream",
          "name": "stdout",
          "text": [
            "\n",
            "Confusion Matrix:\n"
          ]
        },
        {
          "output_type": "display_data",
          "data": {
            "text/plain": [
              "<Figure size 640x480 with 2 Axes>"
            ],
            "image/png": "[encoded data removed]"
          },
          "metadata": {}
        }
      ],
      "execution_count": 12
    },
    {
      "cell_type": "code",
      "source": [
        "# Plot training vs validation accuracy curves\n",
        "print(\"\\nTraining vs. Validation Accuracy:\")\n",
        "plt.plot(history.history['accuracy'], label='Training Accuracy')\n",
        "plt.plot(history.history['val_accuracy'], label='Validation Accuracy')\n",
        "plt.xlabel('Epochs')\n",
        "plt.ylabel('Accuracy')\n",
        "plt.title('Training vs. Validation Accuracy')\n",
        "plt.legend()\n",
        "plt.show()\n",
        "\n",
        "print(\"\\nExample Predictions:\")\n",
        "for i, (true, pred) in enumerate(zip(y_test[:10], y_pred[:10])):\n",
        "    print(f\"Sample {i + 1}:\")\n",
        "    print(f\"True Label: {true}, Predicted Label: {pred}\")\n",
        "    print(\"-\" * 50)\n",
        "\n"
      ],
      "metadata": {
        "trusted": true,
        "execution": {
          "iopub.status.busy": "2024-12-04T17:44:53.020425Z",
          "iopub.execute_input": "2024-12-04T17:44:53.020787Z",
          "iopub.status.idle": "2024-12-04T17:44:53.295068Z",
          "shell.execute_reply.started": "2024-12-04T17:44:53.020755Z",
          "shell.execute_reply": "2024-12-04T17:44:53.294103Z"
        },
        "colab": {
          "base_uri": "https://localhost:8080/",
          "height": 245
        },
        "id": "zGgaKnCM9Lt7",
        "outputId": "3b016e41-963d-4f6d-82cf-97269df6580e"
      },
      "outputs": [
        {
          "output_type": "stream",
          "name": "stdout",
          "text": [
            "\n",
            "Training vs. Validation Accuracy:\n"
          ]
        },
        {
          "output_type": "error",
          "ename": "NameError",
          "evalue": "name 'history' is not defined",
          "traceback": [
            "\u001b[0;31m---------------------------------------------------------------------------\u001b[0m",
            "\u001b[0;31mNameError\u001b[0m                                 Traceback (most recent call last)",
            "\u001b[0;32m<ipython-input-13-0d2cbeee85f5>\u001b[0m in \u001b[0;36m<cell line: 3>\u001b[0;34m()\u001b[0m\n\u001b[1;32m      1\u001b[0m \u001b[0;31m# Plot training vs validation accuracy curves\u001b[0m\u001b[0;34m\u001b[0m\u001b[0;34m\u001b[0m\u001b[0m\n\u001b[1;32m      2\u001b[0m \u001b[0mprint\u001b[0m\u001b[0;34m(\u001b[0m\u001b[0;34m\"\\nTraining vs. Validation Accuracy:\"\u001b[0m\u001b[0;34m)\u001b[0m\u001b[0;34m\u001b[0m\u001b[0;34m\u001b[0m\u001b[0m\n\u001b[0;32m----> 3\u001b[0;31m \u001b[0mplt\u001b[0m\u001b[0;34m.\u001b[0m\u001b[0mplot\u001b[0m\u001b[0;34m(\u001b[0m\u001b[0mhistory\u001b[0m\u001b[0;34m.\u001b[0m\u001b[0mhistory\u001b[0m\u001b[0;34m[\u001b[0m\u001b[0;34m'accuracy'\u001b[0m\u001b[0;34m]\u001b[0m\u001b[0;34m,\u001b[0m \u001b[0mlabel\u001b[0m\u001b[0;34m=\u001b[0m\u001b[0;34m'Training Accuracy'\u001b[0m\u001b[0;34m)\u001b[0m\u001b[0;34m\u001b[0m\u001b[0;34m\u001b[0m\u001b[0m\n\u001b[0m\u001b[1;32m      4\u001b[0m \u001b[0mplt\u001b[0m\u001b[0;34m.\u001b[0m\u001b[0mplot\u001b[0m\u001b[0;34m(\u001b[0m\u001b[0mhistory\u001b[0m\u001b[0;34m.\u001b[0m\u001b[0mhistory\u001b[0m\u001b[0;34m[\u001b[0m\u001b[0;34m'val_accuracy'\u001b[0m\u001b[0;34m]\u001b[0m\u001b[0;34m,\u001b[0m \u001b[0mlabel\u001b[0m\u001b[0;34m=\u001b[0m\u001b[0;34m'Validation Accuracy'\u001b[0m\u001b[0;34m)\u001b[0m\u001b[0;34m\u001b[0m\u001b[0;34m\u001b[0m\u001b[0m\n\u001b[1;32m      5\u001b[0m \u001b[0mplt\u001b[0m\u001b[0;34m.\u001b[0m\u001b[0mxlabel\u001b[0m\u001b[0;34m(\u001b[0m\u001b[0;34m'Epochs'\u001b[0m\u001b[0;34m)\u001b[0m\u001b[0;34m\u001b[0m\u001b[0;34m\u001b[0m\u001b[0m\n",
            "\u001b[0;31mNameError\u001b[0m: name 'history' is not defined"
          ]
        }
      ],
      "execution_count": 13
    },
    {
      "cell_type": "code",
      "source": [
        "model.save('email_classification_model.h5')"
      ],
      "metadata": {
        "trusted": true,
        "execution": {
          "iopub.status.busy": "2024-12-04T17:26:31.60725Z",
          "iopub.status.idle": "2024-12-04T17:26:31.607683Z",
          "shell.execute_reply.started": "2024-12-04T17:26:31.607461Z",
          "shell.execute_reply": "2024-12-04T17:26:31.607483Z"
        },
        "id": "R9001h7h9Lt7"
      },
      "outputs": [],
      "execution_count": null
    }
  ]
}